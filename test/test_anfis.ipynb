{
 "cells": [
  {
   "cell_type": "code",
   "execution_count": 1,
   "id": "4774f695",
   "metadata": {},
   "outputs": [],
   "source": [
    "import pandas as pd\n",
    "from generator_mamdani import MamdaniRuleBaseGenerator\n",
    "from rete_network import ReteNetwork\n",
    "from anfis import ANFIS\n",
    "import random"
   ]
  },
  {
   "cell_type": "code",
   "execution_count": 14,
   "id": "62553e69",
   "metadata": {},
   "outputs": [],
   "source": [
    "weight = {\n",
    "    \"x1\": 0.154,\n",
    "    \"x2\": 0.225,\n",
    "    \"x3\": 0.354,\n",
    "    \"x4\": 0.043,\n",
    "    \"x5\": 0.124,\n",
    "    \"x6\": 0.1,\n",
    "}\n",
    "\n",
    "risk_reducing = {\"x4\", \"x5\", \"x6\"}\n",
    "\n",
    "gen = MamdaniRuleBaseGenerator() \n",
    "all_rules = gen.generate_rules()\n",
    "random.shuffle(all_rules)\n",
    "#all_rules = all_rules[:1000]\n",
    "\n",
    "split_idx = int(0.8 * len(all_rules))\n",
    "train_rules = all_rules[:split_idx]\n",
    "test_rules = all_rules[split_idx:]\n",
    "\n",
    "rete_train = ReteNetwork(train_rules)\n",
    "anfis = ANFIS(rete_train, poly_degree=2)\n",
    "anfis.initialize_coeffs(weight, risk_reducing)"
   ]
  },
  {
   "cell_type": "code",
   "execution_count": 3,
   "id": "9ea49a2f",
   "metadata": {},
   "outputs": [
    {
     "name": "stdout",
     "output_type": "stream",
     "text": [
      "Epoch 1/50, MSE=0.004280\n",
      "Epoch 2/50, MSE=0.000852\n",
      "Epoch 3/50, MSE=0.000371\n",
      "Epoch 4/50, MSE=0.000208\n",
      "Epoch 5/50, MSE=0.000135\n",
      "Epoch 6/50, MSE=0.000101\n",
      "Epoch 7/50, MSE=0.000081\n",
      "Epoch 8/50, MSE=0.000069\n",
      "Epoch 9/50, MSE=0.000059\n",
      "Epoch 10/50, MSE=0.000049\n",
      "Epoch 11/50, MSE=0.000042\n",
      "Epoch 12/50, MSE=0.000036\n",
      "Epoch 13/50, MSE=0.000030\n",
      "Epoch 14/50, MSE=0.000026\n",
      "Epoch 15/50, MSE=0.000022\n",
      "Epoch 16/50, MSE=0.000019\n",
      "Epoch 17/50, MSE=0.000017\n",
      "Epoch 18/50, MSE=0.000015\n",
      "Epoch 19/50, MSE=0.000013\n",
      "Epoch 20/50, MSE=0.000012\n",
      "Epoch 21/50, MSE=0.000010\n",
      "Epoch 22/50, MSE=0.000009\n",
      "Epoch 23/50, MSE=0.000008\n",
      "Epoch 24/50, MSE=0.000008\n",
      "Epoch 25/50, MSE=0.000007\n",
      "Epoch 26/50, MSE=0.000007\n",
      "Epoch 27/50, MSE=0.000006\n",
      "Epoch 28/50, MSE=0.000006\n",
      "Epoch 29/50, MSE=0.000005\n",
      "Epoch 30/50, MSE=0.000005\n",
      "Epoch 31/50, MSE=0.000005\n",
      "Epoch 32/50, MSE=0.000005\n",
      "Epoch 33/50, MSE=0.000005\n",
      "Epoch 34/50, MSE=0.000005\n",
      "Epoch 35/50, MSE=0.000004\n",
      "Epoch 36/50, MSE=0.000004\n",
      "Epoch 37/50, MSE=0.000004\n",
      "Epoch 38/50, MSE=0.000004\n",
      "Epoch 39/50, MSE=0.000003\n",
      "Epoch 40/50, MSE=0.000003\n",
      "Epoch 41/50, MSE=0.000003\n",
      "Epoch 42/50, MSE=0.000003\n",
      "Epoch 43/50, MSE=0.000003\n",
      "Epoch 44/50, MSE=0.000003\n",
      "Epoch 45/50, MSE=0.000003\n",
      "Epoch 46/50, MSE=0.000003\n",
      "Epoch 47/50, MSE=0.000002\n",
      "Epoch 48/50, MSE=0.000003\n",
      "Epoch 49/50, MSE=0.000002\n",
      "Epoch 50/50, MSE=0.000002\n"
     ]
    }
   ],
   "source": [
    "anfis.train_model(lr=0.01, epochs=50, batch_size=128)"
   ]
  },
  {
   "cell_type": "code",
   "execution_count": 4,
   "id": "59ea380d",
   "metadata": {},
   "outputs": [
    {
     "name": "stdout",
     "output_type": "stream",
     "text": [
      "Model saved in anfis_b_p2.pkl\n"
     ]
    }
   ],
   "source": [
    "anfis.save_model(\"anfis_b_p2.pkl\")"
   ]
  },
  {
   "cell_type": "code",
   "execution_count": 5,
   "id": "bf90fbba",
   "metadata": {},
   "outputs": [
    {
     "name": "stdout",
     "output_type": "stream",
     "text": [
      "{'MAE': 0.0009193257428705692, 'RMSE': 0.0014879542868584394, 'Correlation': 0.9999409914016724}\n"
     ]
    }
   ],
   "source": [
    "rete_test = ReteNetwork(test_rules)\n",
    "#anfis.load_model(\"anfis_base.pkl\")\n",
    "results = anfis.check_model_adequacy(rete_test)\n",
    "print(results)"
   ]
  },
  {
   "cell_type": "code",
   "execution_count": 6,
   "id": "49a355f0",
   "metadata": {},
   "outputs": [
    {
     "data": {
      "text/plain": [
       "'R = sigmoid(-0.2237 + 0.1618*x1 + 0.2626*x2 + 0.4912*x3 + -0.1837*x4 + -0.3031*x5 + -0.2668*x6 + 0.0666*x1^2 + 0.1360*x2^2 + 0.1904*x3^2 + -0.0846*x4^2 + -0.1409*x5^2 + -0.1233*x6^2 + 0.0854*x1*x2 + 0.1173*x1*x3 + 0.0115*x1*x4 + -0.0132*x1*x5 + -0.0055*x1*x6 + 0.1185*x2*x3 + 0.0344*x2*x4 + 0.0069*x2*x5 + 0.0173*x2*x6 + 0.1044*x3*x4 + 0.0867*x3*x5 + 0.0907*x3*x6 + -0.1165*x4*x5 + -0.1098*x4*x6 + -0.1314*x5*x6)'"
      ]
     },
     "execution_count": 6,
     "metadata": {},
     "output_type": "execute_result"
    }
   ],
   "source": [
    "anfis.get_global_polynomial_equation()"
   ]
  },
  {
   "cell_type": "code",
   "execution_count": 15,
   "id": "d1504d78",
   "metadata": {},
   "outputs": [
    {
     "name": "stdout",
     "output_type": "stream",
     "text": [
      "Model loaded from anfis_b_p2.pkl\n",
      "\n",
      "Model reduction, round 1\n",
      "Global equation:\n",
      "R = sigmoid(-0.2237 + 0.1618*x1 + 0.2626*x2 + 0.4912*x3 + -0.1837*x4 + -0.3031*x5 + -0.2668*x6 + 0.0666*x1^2 + 0.1360*x2^2 + 0.1904*x3^2 + -0.0846*x4^2 + -0.1409*x5^2 + -0.1233*x6^2 + 0.0854*x1*x2 + 0.1173*x1*x3 + 0.0115*x1*x4 + -0.0132*x1*x5 + -0.0055*x1*x6 + 0.1185*x2*x3 + 0.0344*x2*x4 + 0.0069*x2*x5 + 0.0173*x2*x6 + 0.1044*x3*x4 + 0.0867*x3*x5 + 0.0907*x3*x6 + -0.1165*x4*x5 + -0.1098*x4*x6 + -0.1314*x5*x6)\n",
      "Removing coefficients with indices: [15, 16, 17, 19, 20, 21] (|value| < 0.05)\n",
      "Epoch 1/30, MSE=0.000033\n",
      "Epoch 2/30, MSE=0.000004\n",
      "Epoch 3/30, MSE=0.000002\n",
      "Epoch 4/30, MSE=0.000002\n",
      "Epoch 5/30, MSE=0.000002\n",
      "Epoch 6/30, MSE=0.000001\n",
      "Epoch 7/30, MSE=0.000001\n",
      "Epoch 8/30, MSE=0.000001\n",
      "Epoch 9/30, MSE=0.000001\n",
      "Epoch 10/30, MSE=0.000001\n",
      "Epoch 11/30, MSE=0.000001\n",
      "Epoch 12/30, MSE=0.000001\n",
      "Epoch 13/30, MSE=0.000001\n",
      "Epoch 14/30, MSE=0.000001\n",
      "Epoch 15/30, MSE=0.000001\n",
      "Epoch 16/30, MSE=0.000001\n",
      "Epoch 17/30, MSE=0.000001\n",
      "Epoch 18/30, MSE=0.000001\n",
      "Epoch 19/30, MSE=0.000001\n",
      "Epoch 20/30, MSE=0.000001\n",
      "Epoch 21/30, MSE=0.000001\n",
      "Epoch 22/30, MSE=0.000001\n",
      "Epoch 23/30, MSE=0.000001\n",
      "Epoch 24/30, MSE=0.000001\n",
      "Epoch 25/30, MSE=0.000001\n",
      "Epoch 26/30, MSE=0.000001\n",
      "Epoch 27/30, MSE=0.000000\n",
      "Epoch 28/30, MSE=0.000000\n",
      "Epoch 29/30, MSE=0.000000\n",
      "Epoch 30/30, MSE=0.000000\n",
      "\n",
      "Model reduction, round 2\n",
      "Global equation:\n",
      "R = sigmoid(-0.2328 + 0.1708*x1 + 0.2794*x2 + 0.5045*x3 + -0.1809*x4 + -0.3053*x5 + -0.2673*x6 + 0.0713*x1^2 + 0.1506*x2^2 + 0.1928*x3^2 + -0.0777*x4^2 + -0.1370*x5^2 + -0.1188*x6^2 + 0.0888*x1*x2 + 0.1133*x1*x3 + 0.1173*x2*x3 + 0.1095*x3*x4 + 0.0901*x3*x5 + 0.0947*x3*x6 + -0.1154*x4*x5 + -0.1074*x4*x6 + -0.1303*x5*x6)\n",
      "Reduction complete.\n"
     ]
    }
   ],
   "source": [
    "anfis.train_and_reduce(\n",
    "    initial_epochs=30, \n",
    "    batch_size=128, \n",
    "    reduction_epochs=30, \n",
    "    significance_threshold=0.05,\n",
    "    load_filepath=\"anfis_b_p2.pkl\"\n",
    ")"
   ]
  },
  {
   "cell_type": "code",
   "execution_count": 16,
   "id": "8375c63b",
   "metadata": {},
   "outputs": [
    {
     "name": "stdout",
     "output_type": "stream",
     "text": [
      "Model saved in anfis_f_p2.pkl\n"
     ]
    }
   ],
   "source": [
    "anfis.save_model(\"anfis_f_p2.pkl\")"
   ]
  },
  {
   "cell_type": "code",
   "execution_count": 17,
   "id": "efa2b17e",
   "metadata": {},
   "outputs": [
    {
     "name": "stdout",
     "output_type": "stream",
     "text": [
      "{'MAE': 0.0004022665962111205, 'RMSE': 0.000581269443500787, 'Correlation': 0.9999910593032837}\n"
     ]
    },
    {
     "data": {
      "text/plain": [
       "'R = sigmoid(-0.2328 + 0.1708*x1 + 0.2794*x2 + 0.5045*x3 + -0.1809*x4 + -0.3053*x5 + -0.2673*x6 + 0.0713*x1^2 + 0.1506*x2^2 + 0.1928*x3^2 + -0.0777*x4^2 + -0.1370*x5^2 + -0.1188*x6^2 + 0.0888*x1*x2 + 0.1133*x1*x3 + 0.1173*x2*x3 + 0.1095*x3*x4 + 0.0901*x3*x5 + 0.0947*x3*x6 + -0.1154*x4*x5 + -0.1074*x4*x6 + -0.1303*x5*x6)'"
      ]
     },
     "execution_count": 17,
     "metadata": {},
     "output_type": "execute_result"
    }
   ],
   "source": [
    "results = anfis.check_model_adequacy(rete_test)\n",
    "print(results)\n",
    "anfis.get_global_polynomial_equation()"
   ]
  },
  {
   "cell_type": "code",
   "execution_count": 19,
   "id": "6b38fd9e",
   "metadata": {},
   "outputs": [
    {
     "name": "stdout",
     "output_type": "stream",
     "text": [
      "Model loaded from anfis_f_p2.pkl\n",
      "Sample 1: input={'x1': 0.1, 'x2': 0.15, 'x3': 0.1, 'x4': 0.97, 'x5': 0.15, 'x6': 0.15}, predict=0.2762\n",
      "Sample 2: input={'x1': 0.1, 'x2': 0.15, 'x3': 0.1, 'x4': 0.97, 'x5': 0.15, 'x6': 0.42}, predict=0.2486\n",
      "Sample 3: input={'x1': 0.1, 'x2': 0.15, 'x3': 0.1, 'x4': 0.97, 'x5': 0.15, 'x6': 0.55}, predict=0.2353\n",
      "Sample 4: input={'x1': 0.1, 'x2': 0.15, 'x3': 0.1, 'x4': 0.97, 'x5': 0.15, 'x6': 0.87}, predict=0.2034\n"
     ]
    }
   ],
   "source": [
    "anfis = ANFIS(None,poly_degree=2)\n",
    "anfis.load_model(\"anfis_f_p2.pkl\")\n",
    "test_samples = [\n",
    "    {\"x1\": 0.1, \"x2\": 0.15, \"x3\": 0.1, \"x4\": 0.97, \"x5\": 0.15, \"x6\": 0.15},\n",
    "    {\"x1\": 0.1, \"x2\": 0.15, \"x3\": 0.1, \"x4\": 0.97, \"x5\": 0.15, \"x6\": 0.42},\n",
    "    {\"x1\": 0.1, \"x2\": 0.15, \"x3\": 0.1, \"x4\": 0.97, \"x5\": 0.15, \"x6\": 0.55},\n",
    "    {\"x1\": 0.1, \"x2\": 0.15, \"x3\": 0.1, \"x4\": 0.97, \"x5\": 0.15, \"x6\": 0.87},\n",
    "]\n",
    "\n",
    "for i, sample in enumerate(test_samples, start=1):\n",
    "    y_pred = anfis.predict(sample)\n",
    "    print(f\"Sample {i}: input={sample}, predict={y_pred:.4f}\")"
   ]
  }
 ],
 "metadata": {
  "kernelspec": {
   "display_name": "Python 3",
   "language": "python",
   "name": "python3"
  },
  "language_info": {
   "codemirror_mode": {
    "name": "ipython",
    "version": 3
   },
   "file_extension": ".py",
   "mimetype": "text/x-python",
   "name": "python",
   "nbconvert_exporter": "python",
   "pygments_lexer": "ipython3",
   "version": "3.12.2"
  }
 },
 "nbformat": 4,
 "nbformat_minor": 5
}
