{
 "cells": [
  {
   "cell_type": "code",
   "execution_count": 1,
   "id": "4774f695",
   "metadata": {},
   "outputs": [],
   "source": [
    "import pandas as pd\n",
    "from generator_mamdani import MamdaniRuleBaseGenerator\n",
    "from rete_network import ReteNetwork\n",
    "from anfis import ANFIS\n",
    "import random"
   ]
  },
  {
   "cell_type": "code",
   "execution_count": 2,
   "id": "62553e69",
   "metadata": {},
   "outputs": [],
   "source": [
    "weight = {\n",
    "    \"x1\": 0.154,\n",
    "    \"x2\": 0.225,\n",
    "    \"x3\": 0.354,\n",
    "    \"x4\": 0.043,\n",
    "    \"x5\": 0.124,\n",
    "    \"x6\": 0.1,\n",
    "}\n",
    "\n",
    "risk_reducing = {\"x4\", \"x5\", \"x6\"}\n",
    "\n",
    "gen = MamdaniRuleBaseGenerator() \n",
    "all_rules = gen.generate_rules()\n",
    "random.shuffle(all_rules)\n",
    "#all_rules = all_rules[:1000]\n",
    "\n",
    "split_idx = int(0.8 * len(all_rules))\n",
    "train_rules = all_rules[:split_idx]\n",
    "test_rules = all_rules[split_idx:]\n",
    "\n",
    "rete_train = ReteNetwork(train_rules)\n",
    "anfis = ANFIS(rete_train)\n",
    "anfis.initialize_coeffs(weight, risk_reducing)"
   ]
  },
  {
   "cell_type": "code",
   "execution_count": 3,
   "id": "9ea49a2f",
   "metadata": {},
   "outputs": [
    {
     "name": "stdout",
     "output_type": "stream",
     "text": [
      "Epoch 1/50, MSE=0.014701\n",
      "Epoch 2/50, MSE=0.014701\n",
      "Epoch 3/50, MSE=0.014700\n",
      "Epoch 4/50, MSE=0.014700\n",
      "Epoch 5/50, MSE=0.014700\n",
      "Epoch 6/50, MSE=0.014699\n",
      "Epoch 7/50, MSE=0.014699\n",
      "Epoch 8/50, MSE=0.014699\n",
      "Epoch 9/50, MSE=0.014699\n",
      "Epoch 10/50, MSE=0.014698\n",
      "Epoch 11/50, MSE=0.014698\n",
      "Epoch 12/50, MSE=0.014698\n",
      "Epoch 13/50, MSE=0.014698\n",
      "Epoch 14/50, MSE=0.014697\n",
      "Epoch 15/50, MSE=0.014697\n",
      "Epoch 16/50, MSE=0.014697\n",
      "Epoch 17/50, MSE=0.014697\n",
      "Epoch 18/50, MSE=0.014696\n",
      "Epoch 19/50, MSE=0.014696\n",
      "Epoch 20/50, MSE=0.014696\n",
      "Epoch 21/50, MSE=0.014696\n",
      "Epoch 22/50, MSE=0.014695\n",
      "Epoch 23/50, MSE=0.014695\n",
      "Epoch 24/50, MSE=0.014695\n",
      "Epoch 25/50, MSE=0.014694\n",
      "Epoch 26/50, MSE=0.014694\n",
      "Epoch 27/50, MSE=0.014694\n",
      "Epoch 28/50, MSE=0.014694\n",
      "Epoch 29/50, MSE=0.014693\n",
      "Epoch 30/50, MSE=0.014693\n",
      "Epoch 31/50, MSE=0.014693\n",
      "Epoch 32/50, MSE=0.014693\n",
      "Epoch 33/50, MSE=0.014692\n",
      "Epoch 34/50, MSE=0.014692\n",
      "Epoch 35/50, MSE=0.014692\n",
      "Epoch 36/50, MSE=0.014692\n",
      "Epoch 37/50, MSE=0.014691\n",
      "Epoch 38/50, MSE=0.014691\n",
      "Epoch 39/50, MSE=0.014691\n",
      "Epoch 40/50, MSE=0.014690\n",
      "Epoch 41/50, MSE=0.014690\n",
      "Epoch 42/50, MSE=0.014690\n",
      "Epoch 43/50, MSE=0.014690\n",
      "Epoch 44/50, MSE=0.014689\n",
      "Epoch 45/50, MSE=0.014689\n",
      "Epoch 46/50, MSE=0.014689\n",
      "Epoch 47/50, MSE=0.014689\n",
      "Epoch 48/50, MSE=0.014688\n",
      "Epoch 49/50, MSE=0.014688\n",
      "Epoch 50/50, MSE=0.014688\n"
     ]
    }
   ],
   "source": [
    "anfis.train_base(lr=0.01, epochs=50, batch_size=128)"
   ]
  },
  {
   "cell_type": "code",
   "execution_count": 4,
   "id": "59ea380d",
   "metadata": {},
   "outputs": [
    {
     "name": "stdout",
     "output_type": "stream",
     "text": [
      "Model saved in anfis_base.pkl\n"
     ]
    }
   ],
   "source": [
    "anfis.save_model(\"anfis_base.pkl\")"
   ]
  },
  {
   "cell_type": "code",
   "execution_count": 5,
   "id": "bf90fbba",
   "metadata": {},
   "outputs": [
    {
     "name": "stdout",
     "output_type": "stream",
     "text": [
      "{'MAE': 0.09710207816974896, 'RMSE': 0.11959901882112187, 'Correlation': 0.9999294342564388}\n"
     ]
    }
   ],
   "source": [
    "rete_test = ReteNetwork(test_rules)\n",
    "#anfis.load_model(\"anfis_base.pkl\")\n",
    "results = anfis.check_model_adequacy(rete_test)\n",
    "print(results)"
   ]
  },
  {
   "cell_type": "code",
   "execution_count": 6,
   "id": "49a355f0",
   "metadata": {},
   "outputs": [
    {
     "data": {
      "text/plain": [
       "'R = sigmoid(-0.0005 + 0.1540*x1 + 0.2250*x2 + 0.3540*x3 + -0.0431*x4 + -0.1241*x5 + -0.1001*x6)'"
      ]
     },
     "execution_count": 6,
     "metadata": {},
     "output_type": "execute_result"
    }
   ],
   "source": [
    "anfis.get_global_polynomial_equation()"
   ]
  },
  {
   "cell_type": "code",
   "execution_count": null,
   "id": "d1504d78",
   "metadata": {},
   "outputs": [
    {
     "name": "stdout",
     "output_type": "stream",
     "text": [
      "Model load from anfis_base.pkl\n",
      "\n",
      "Model reduction, round 1\n",
      "R = sigmoid(-0.0005 + 0.1540*x1 + 0.2250*x2 + 0.3540*x3 + -0.1241*x5 + -0.1001*x6)\n",
      "Retraining the model after reduction, epochs=20\n",
      "Epoch 1/20, MSE=0.015635\n",
      "Epoch 2/20, MSE=0.015634\n",
      "Epoch 3/20, MSE=0.015634\n",
      "Epoch 4/20, MSE=0.015634\n",
      "Epoch 5/20, MSE=0.015634\n",
      "Epoch 6/20, MSE=0.015633\n",
      "Epoch 7/20, MSE=0.015633\n",
      "Epoch 8/20, MSE=0.015633\n",
      "Epoch 9/20, MSE=0.015633\n",
      "Epoch 10/20, MSE=0.015632\n",
      "Epoch 11/20, MSE=0.015632\n",
      "Epoch 12/20, MSE=0.015632\n",
      "Epoch 13/20, MSE=0.015632\n",
      "Epoch 14/20, MSE=0.015631\n",
      "Epoch 15/20, MSE=0.015631\n",
      "Epoch 16/20, MSE=0.015631\n",
      "Epoch 17/20, MSE=0.015631\n",
      "Epoch 18/20, MSE=0.015630\n",
      "Epoch 19/20, MSE=0.015630\n",
      "Epoch 20/20, MSE=0.015630\n",
      "\n",
      "Model reduction, round 2\n",
      "R = sigmoid(-0.0005 + 0.1539*x1 + 0.2249*x2 + 0.3540*x3 + -0.1241*x5 + -0.1001*x6)\n",
      "Retraining the model after reduction, epochs=20\n",
      "Epoch 1/20, MSE=0.015630\n",
      "Epoch 2/20, MSE=0.015629\n",
      "Epoch 3/20, MSE=0.015629\n",
      "Epoch 4/20, MSE=0.015629\n",
      "Epoch 5/20, MSE=0.015629\n",
      "Epoch 6/20, MSE=0.015628\n",
      "Epoch 7/20, MSE=0.015628\n",
      "Epoch 8/20, MSE=0.015628\n",
      "Epoch 9/20, MSE=0.015628\n",
      "Epoch 10/20, MSE=0.015627\n",
      "Epoch 11/20, MSE=0.015627\n",
      "Epoch 12/20, MSE=0.015627\n",
      "Epoch 13/20, MSE=0.015627\n",
      "Epoch 14/20, MSE=0.015626\n",
      "Epoch 15/20, MSE=0.015626\n",
      "Epoch 16/20, MSE=0.015626\n",
      "Epoch 17/20, MSE=0.015626\n",
      "Epoch 18/20, MSE=0.015625\n",
      "Epoch 19/20, MSE=0.015625\n",
      "Epoch 20/20, MSE=0.015625\n",
      "\n",
      "Model reduction, round 3\n",
      "R = sigmoid(-0.0006 + 0.1539*x1 + 0.2249*x2 + 0.3540*x3 + -0.1241*x5 + -0.1001*x6)\n",
      "Retraining the model after reduction, epochs=20\n",
      "Epoch 1/20, MSE=0.015625\n",
      "Epoch 2/20, MSE=0.015624\n",
      "Epoch 3/20, MSE=0.015624\n",
      "Epoch 4/20, MSE=0.015624\n",
      "Epoch 5/20, MSE=0.015624\n",
      "Epoch 6/20, MSE=0.015623\n",
      "Epoch 7/20, MSE=0.015623\n",
      "Epoch 8/20, MSE=0.015623\n",
      "Epoch 9/20, MSE=0.015622\n",
      "Epoch 10/20, MSE=0.015622\n",
      "Epoch 11/20, MSE=0.015622\n",
      "Epoch 12/20, MSE=0.015622\n",
      "Epoch 13/20, MSE=0.015621\n",
      "Epoch 14/20, MSE=0.015621\n",
      "Epoch 15/20, MSE=0.015621\n",
      "Epoch 16/20, MSE=0.015621\n",
      "Epoch 17/20, MSE=0.015620\n",
      "Epoch 18/20, MSE=0.015620\n",
      "Epoch 19/20, MSE=0.015620\n",
      "Epoch 20/20, MSE=0.015620\n"
     ]
    }
   ],
   "source": [
    "anfis.train_and_reduce(\n",
    "    initial_epochs=30, \n",
    "    batch_size=128, \n",
    "    reduction_epochs=20, \n",
    "    significance_threshold=0.05,\n",
    "    load_filepath=\"anfis_base.pkl\"\n",
    ")"
   ]
  },
  {
   "cell_type": "code",
   "execution_count": 8,
   "id": "8375c63b",
   "metadata": {},
   "outputs": [
    {
     "name": "stdout",
     "output_type": "stream",
     "text": [
      "Model saved in anfis_final.pkl\n"
     ]
    }
   ],
   "source": [
    "anfis.save_model(\"anfis_final.pkl\")"
   ]
  },
  {
   "cell_type": "code",
   "execution_count": 9,
   "id": "efa2b17e",
   "metadata": {},
   "outputs": [
    {
     "name": "stdout",
     "output_type": "stream",
     "text": [
      "{'MAE': 0.09995382446370775, 'RMSE': 0.12322504991487937, 'Correlation': 0.996685891660865}\n"
     ]
    },
    {
     "data": {
      "text/plain": [
       "'R = sigmoid(-0.0007 + 0.1539*x1 + 0.2249*x2 + 0.3540*x3 + -0.1242*x5 + -0.1002*x6)'"
      ]
     },
     "execution_count": 9,
     "metadata": {},
     "output_type": "execute_result"
    }
   ],
   "source": [
    "results = anfis.check_model_adequacy(rete_test)\n",
    "print(results)\n",
    "anfis.get_global_polynomial_equation()"
   ]
  },
  {
   "cell_type": "code",
   "execution_count": 8,
   "id": "6b38fd9e",
   "metadata": {},
   "outputs": [
    {
     "name": "stdout",
     "output_type": "stream",
     "text": [
      "Model load from anfis_final.pkl\n",
      "Sample 1: input={'x1': 0.1, 'x2': 0.15, 'x3': 0.1, 'x4': 0.97, 'x5': 0.15, 'x6': 0.15}, predict=0.5122\n",
      "Sample 2: input={'x1': 0.1, 'x2': 0.15, 'x3': 0.1, 'x4': 0.97, 'x5': 0.15, 'x6': 0.42}, predict=0.5054\n",
      "Sample 3: input={'x1': 0.1, 'x2': 0.15, 'x3': 0.1, 'x4': 0.97, 'x5': 0.15, 'x6': 0.55}, predict=0.5021\n",
      "Sample 4: input={'x1': 0.1, 'x2': 0.15, 'x3': 0.1, 'x4': 0.97, 'x5': 0.15, 'x6': 0.87}, predict=0.4942\n"
     ]
    }
   ],
   "source": [
    "anfis = ANFIS()\n",
    "anfis.load_model(\"anfis_final.pkl\")\n",
    "test_samples = [\n",
    "    {\"x1\": 0.1, \"x2\": 0.15, \"x3\": 0.1, \"x4\": 0.97, \"x5\": 0.15, \"x6\": 0.15},\n",
    "    {\"x1\": 0.1, \"x2\": 0.15, \"x3\": 0.1, \"x4\": 0.97, \"x5\": 0.15, \"x6\": 0.42},\n",
    "    {\"x1\": 0.1, \"x2\": 0.15, \"x3\": 0.1, \"x4\": 0.97, \"x5\": 0.15, \"x6\": 0.55},\n",
    "    {\"x1\": 0.1, \"x2\": 0.15, \"x3\": 0.1, \"x4\": 0.97, \"x5\": 0.15, \"x6\": 0.87},\n",
    "]\n",
    "\n",
    "for i, sample in enumerate(test_samples, start=1):\n",
    "    y_pred = anfis.predict(sample)\n",
    "    print(f\"Sample {i}: input={sample}, predict={y_pred:.4f}\")\n"
   ]
  }
 ],
 "metadata": {
  "kernelspec": {
   "display_name": "Python 3",
   "language": "python",
   "name": "python3"
  },
  "language_info": {
   "codemirror_mode": {
    "name": "ipython",
    "version": 3
   },
   "file_extension": ".py",
   "mimetype": "text/x-python",
   "name": "python",
   "nbconvert_exporter": "python",
   "pygments_lexer": "ipython3",
   "version": "3.12.2"
  }
 },
 "nbformat": 4,
 "nbformat_minor": 5
}
